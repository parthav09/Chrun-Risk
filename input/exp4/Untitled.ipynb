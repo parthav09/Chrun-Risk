{
 "cells": [
  {
   "cell_type": "code",
   "execution_count": 1,
   "metadata": {},
   "outputs": [],
   "source": [
    "import numpy as np\n",
    "import matplotlib.pyplot as plt\n",
    "from sklearn.datasets import make_blobs"
   ]
  },
  {
   "cell_type": "code",
   "execution_count": 2,
   "metadata": {},
   "outputs": [],
   "source": [
    "class Kmeans:\n",
    "  def __init__(self, X, num):\n",
    "    self.K= num\n",
    "    self.interation= 100\n",
    "    self.examples, self.features= X.shape\n",
    "\n",
    "  def random_centeroid(self, X):\n",
    "    centroids= np.zeros((self.K, self.features)) \n",
    "    for k in range(self.K):\n",
    "      centroid = X[np.random. choice(range(self.examples))] \n",
    "      centroids[k]= centroid\n",
    "    return centroids\n",
    "\n",
    "  def cluster(self, X, centroids):\n",
    "    clusters= [[] for _ in range(self.K)]\n",
    "    for index, point in enumerate(X):\n",
    "      closet= np.argmin(\n",
    "        np.sqrt(np.sum((point-centroids)**2, axis=1))) \n",
    "      clusters[closet].append(index)\n",
    "    return clusters\n",
    "\n",
    "  def new_centroid(self, cluster, X):\n",
    "    centroids = np.zeros((self.K, self.features))\n",
    "    for index, cluster in enumerate(cluster):\n",
    "      new_centroid = np.mean (X[cluster], axis=0) \n",
    "      centroids[index] = new_centroid\n",
    "    return centroids\n",
    "\n",
    "  def predict(self, clusters, X): \n",
    "    y_pred = np.zeros(self.examples)\n",
    "    for index, cluster in enumerate(clusters):\n",
    "      for sample_index in cluster: \n",
    "        y_pred [sample_index] = index\n",
    "    return y_pred\n",
    "\n",
    "  def plot_fig(self, x, y): \n",
    "    plt.scatter (X[:, 0], X[:, 1], color='deeppink')\n",
    "\n",
    "  def fit(self, x):\n",
    "    centroids= self.random_centeroid(X) \n",
    "    for _ in range(self.interation):\n",
    "      clusters = self.cluster (X, centroids) \n",
    "      prev = centroids\n",
    "      centroids= self.new_centroid (clusters, X) \n",
    "      diff= centroids - prev\n",
    "\n",
    "      if not diff.any():\n",
    "        print('centeroids:', centroids) \n",
    "        break\n",
    "\n",
    "    y_pred= self.predict(clusters, X)\n",
    "    print('Which cluster each point belongs: ',y_pred)\n",
    "\n",
    "    self.plot_fig(X, centroids)"
   ]
  },
  {
   "cell_type": "code",
   "execution_count": 3,
   "metadata": {},
   "outputs": [
    {
     "name": "stdout",
     "output_type": "stream",
     "text": [
      "Inputs:  [[10.04020699  1.25779638]\n",
      " [10.24051699 -1.47937099]\n",
      " [ 6.33732262 -8.95011096]\n",
      " [ 8.10635497 -1.16171058]\n",
      " [ 9.91251403 -0.39906277]\n",
      " [-4.34109689  4.14270204]\n",
      " [ 9.44891377 -1.44232744]\n",
      " [-4.08341013  5.90836399]\n",
      " [ 9.81727034 -0.59318759]\n",
      " [ 8.5414954  -7.70831807]\n",
      " [ 7.45271766 -7.27090497]\n",
      " [ 8.21560394 -6.04098962]\n",
      " [-5.29111245  4.95020405]\n",
      " [ 8.63551184 -0.02118863]\n",
      " [10.27088925  0.17105105]\n",
      " [ 8.91066211 -6.27441821]\n",
      " [-5.0274327   6.37319333]\n",
      " [ 9.25913628 -7.86935697]\n",
      " [-6.65915176  4.96347028]\n",
      " [10.13508352  0.75294811]\n",
      " [ 9.00268478 -7.3526737 ]\n",
      " [10.91103813  1.05564447]\n",
      " [-4.33661208  3.27828159]\n",
      " [ 9.7680807  -1.77676316]\n",
      " [-3.44878448  5.887863  ]\n",
      " [11.34566109 -0.37734468]\n",
      " [10.78116064  0.33528297]\n",
      " [-6.32825882  5.58099779]\n",
      " [-4.29851519  4.03922415]\n",
      " [ 9.69244712 -0.19442438]\n",
      " [-3.08877751  6.00804736]\n",
      " [-4.61229634  5.3087659 ]\n",
      " [ 8.26937661 -6.94719572]\n",
      " [-2.92105159  5.10813228]\n",
      " [ 7.95026243 -7.90927629]\n",
      " [-5.12390905  6.1872075 ]\n",
      " [ 7.64780151 -6.912754  ]\n",
      " [ 7.77123492 -8.68947346]\n",
      " [ 9.21072023 -8.5574543 ]\n",
      " [-2.63976909  3.85655383]\n",
      " [-7.10128241  3.87502613]\n",
      " [ 9.64187137  1.16597884]\n",
      " [-4.59050787  3.65633304]\n",
      " [ 8.64963911  0.38319521]\n",
      " [ 8.95641429 -1.61522249]\n",
      " [-4.19196219  4.28261673]\n",
      " [10.70424189 -0.67217928]\n",
      " [ 7.97472577 -6.25230799]\n",
      " [ 8.55993777 -6.69286102]\n",
      " [-4.5559097   4.28680957]\n",
      " [ 9.82333601 -6.7423781 ]\n",
      " [10.13948148  0.60745842]\n",
      " [ 8.61923993  0.65092601]\n",
      " [10.82025787 -0.25926462]\n",
      " [ 9.32936463 -1.56320596]\n",
      " [-4.32631557  5.80062211]\n",
      " [-3.9201334   6.34420072]\n",
      " [ 9.42094213  0.96794037]\n",
      " [-5.8281503   5.49441641]\n",
      " [-4.67087203  4.83008289]\n",
      " [10.11407164  0.10395918]\n",
      " [-5.81823263  4.84005698]\n",
      " [ 7.82323652 -7.14318238]\n",
      " [ 6.91370221 -7.52720329]\n",
      " [ 9.07526734  0.25040082]\n",
      " [ 8.01146304 -8.04879742]\n",
      " [ 8.34454077 -6.79172669]\n",
      " [ 8.91935263  0.90958337]\n",
      " [-5.52210437  4.69271588]\n",
      " [-4.98246879  5.52949157]\n",
      " [ 8.06653183 -7.69373309]\n",
      " [ 7.83219398 -7.79002565]\n",
      " [-5.89606005  3.37756128]\n",
      " [ 6.90945601 -6.7946922 ]\n",
      " [ 9.80212326  1.09236058]\n",
      " [ 8.03126589 -7.97346136]\n",
      " [ 9.34085415 -7.67240255]\n",
      " [ 9.67771772  1.43783603]\n",
      " [-4.12298105  6.0500009 ]\n",
      " [ 7.75962273 -7.08644902]\n",
      " [ 8.17173172 -9.1958435 ]\n",
      " [-4.71880648  4.98514374]\n",
      " [10.12981918 -7.18907514]\n",
      " [ 9.22127746  1.37889413]\n",
      " [-4.119919    4.22849049]\n",
      " [ 9.98889583  0.71621431]\n",
      " [ 9.7819445   0.45115313]\n",
      " [ 9.41748642 -7.32279969]\n",
      " [10.49945795 -7.82056361]\n",
      " [ 9.64840782 -0.53998805]\n",
      " [ 6.70314213 -7.52452205]\n",
      " [10.74182349 -0.16656934]\n",
      " [-3.72464432  6.20634822]\n",
      " [-5.62887597  5.11907495]\n",
      " [-4.37406299  3.34546165]\n",
      " [-4.00525756  3.99393494]\n",
      " [ 8.52167099 -6.39329985]\n",
      " [ 7.22709031 -8.90022591]\n",
      " [ 7.09622268 -7.32293449]\n",
      " [ 9.80693829 -2.23431328]]\n"
     ]
    }
   ],
   "source": [
    "X, _ = make_blobs (n_samples=100, n_features=2, centers=3)\n",
    "print('Inputs: ', X)\n"
   ]
  },
  {
   "cell_type": "code",
   "execution_count": 4,
   "metadata": {},
   "outputs": [
    {
     "name": "stdout",
     "output_type": "stream",
     "text": [
      "centeroids: [[ 9.76955653 -0.02375   ]\n",
      " [ 8.23413656 -7.46549731]\n",
      " [-4.67571893  4.9251938 ]]\n",
      "Which cluster each point belongs:  [0. 0. 1. 0. 0. 2. 0. 2. 0. 1. 1. 1. 2. 0. 0. 1. 2. 1. 2. 0. 1. 0. 2. 0.\n",
      " 2. 0. 0. 2. 2. 0. 2. 2. 1. 2. 1. 2. 1. 1. 1. 2. 2. 0. 2. 0. 0. 2. 0. 1.\n",
      " 1. 2. 1. 0. 0. 0. 0. 2. 2. 0. 2. 2. 0. 2. 1. 1. 0. 1. 1. 0. 2. 2. 1. 1.\n",
      " 2. 1. 0. 1. 1. 0. 2. 1. 1. 2. 1. 0. 2. 0. 0. 1. 1. 0. 1. 0. 2. 2. 2. 2.\n",
      " 1. 1. 1. 0.]\n"
     ]
    },
    {
     "data": {
      "image/png": "[encoded data removed]",
      "text/plain": [
       "<Figure size 432x288 with 1 Axes>"
      ]
     },
     "metadata": {
      "needs_background": "light"
     },
     "output_type": "display_data"
    }
   ],
   "source": [
    "kmeans = Kmeans(X, 3)\n",
    "kmeans.fit(X)"
   ]
  },
  {
   "cell_type": "code",
   "execution_count": null,
   "metadata": {},
   "outputs": [],
   "source": []
  }
 ],
 "metadata": {
  "kernelspec": {
   "display_name": "Python 3",
   "language": "python",
   "name": "python3"
  },
  "language_info": {
   "codemirror_mode": {
    "name": "ipython",
    "version": 3
   },
   "file_extension": ".py",
   "mimetype": "text/x-python",
   "name": "python",
   "nbconvert_exporter": "python",
   "pygments_lexer": "ipython3",
   "version": "3.8.5"
  }
 },
 "nbformat": 4,
 "nbformat_minor": 4
}
